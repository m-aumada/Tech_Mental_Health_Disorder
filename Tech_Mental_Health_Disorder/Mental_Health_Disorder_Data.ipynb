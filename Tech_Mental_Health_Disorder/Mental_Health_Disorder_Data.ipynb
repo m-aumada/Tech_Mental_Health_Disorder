{
 "cells": [
  {
   "cell_type": "code",
   "execution_count": 133,
   "id": "663da2da",
   "metadata": {},
   "outputs": [],
   "source": [
    "import numpy\n",
    "import pandas\n",
    "import os\n",
    "\n",
    "\n",
    "dataframe = pandas.read_csv('files/mental-heath-in-tech-2016_20161114.csv')\n",
    "dataframe.rename(\n",
    "    columns = {\n",
    "        'What is your age?':'age',\n",
    "        'Do you work remotely?': 'remotely',\n",
    "        'Which of the following best describes your work position?': 'position',\n",
    "        'What is your gender?': 'gender',\n",
    "        'Do you currently have a mental health disorder?': 'has_mental_disorder',\n",
    "        'Have you had a mental health disorder in the past?': 'had_mental_disorder',\n",
    "        'Do you have a family history of mental illness?': 'family_hist'\n",
    "       },\n",
    "    inplace = True)\n",
    "df_used_columns['gender'] = df_used_columns['gender'].str.strip()\n",
    "df_used_columns = dataframe[['age', 'remotely', 'family_hist', 'had_mental_disorder', 'has_mental_disorder', 'gender', 'position']]\n",
    "\n",
    "df_used_columns.to_excel('Mental_Health_sample.xlsx', sheet_name='sheet1')\n"
   ]
  },
  {
   "cell_type": "code",
   "execution_count": 134,
   "id": "65b22b57",
   "metadata": {},
   "outputs": [],
   "source": [
    "def fill_gender(var):\n",
    "        if var == 'Dude' or var == 'M' or var == 'Male' or var == 'male' or var == 'M|' or var == 'mail' or var == 'man':\n",
    "            return 'Male'\n",
    "        elif var == 'F' or var == 'Female' or var == 'female' or var == 'Woman' or var == 'female/woman' or var == 'fem' or var == 'fm':\n",
    "            return 'Female'\n",
    "        else:\n",
    "            return 'other'"
   ]
  },
  {
   "cell_type": "code",
   "execution_count": 139,
   "id": "d84cd104",
   "metadata": {},
   "outputs": [],
   "source": [
    "\n",
    "# grouped = df_used_columns.groupby(['position', 'gender', 'age', 'remotely', 'had_mental_disorder', 'has_mental_disorder', 'family_hist']).count()\n",
    "\n",
    "mental_health_excel = pandas.read_excel('Mental_Health_sample.xlsx', skiprows = 1)\n",
    "mental_health_excel.columns = ['count', 'age','remotely', 'family_hist', 'had_mental_disorder', 'has_mental_disorder', 'gender', 'position']\n",
    "del mental_health_excel['count']\n",
    "\n",
    "mental_health_excel['fill_gender'] = mental_health_excel['gender'].apply(fill_gender)\n",
    "\n",
    "mental_health_excel.head()\n",
    "del mental_health_excel['gender']\n",
    "\n",
    "grouped = mental_health_excel.groupby(['position', 'fill_gender', 'age', 'remotely', 'had_mental_disorder', 'has_mental_disorder', 'family_hist']).count()\n",
    "\n",
    "grouped.to_csv('mental_health_complete.csv')\n"
   ]
  },
  {
   "cell_type": "code",
   "execution_count": null,
   "id": "f8cdc41c",
   "metadata": {},
   "outputs": [],
   "source": []
  },
  {
   "cell_type": "code",
   "execution_count": null,
   "id": "552677f7",
   "metadata": {},
   "outputs": [],
   "source": []
  },
  {
   "cell_type": "code",
   "execution_count": null,
   "id": "a4fb1311",
   "metadata": {},
   "outputs": [],
   "source": []
  }
 ],
 "metadata": {
  "kernelspec": {
   "display_name": "Python 3 (ipykernel)",
   "language": "python",
   "name": "python3"
  },
  "language_info": {
   "codemirror_mode": {
    "name": "ipython",
    "version": 3
   },
   "file_extension": ".py",
   "mimetype": "text/x-python",
   "name": "python",
   "nbconvert_exporter": "python",
   "pygments_lexer": "ipython3",
   "version": "3.9.12"
  }
 },
 "nbformat": 4,
 "nbformat_minor": 5
}
